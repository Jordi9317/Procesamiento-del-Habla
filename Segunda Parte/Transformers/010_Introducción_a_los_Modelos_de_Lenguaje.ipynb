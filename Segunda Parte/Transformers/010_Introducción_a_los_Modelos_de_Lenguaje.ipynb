{
  "nbformat": 4,
  "nbformat_minor": 0,
  "metadata": {
    "colab": {
      "provenance": [],
      "gpuType": "T4"
    },
    "kernelspec": {
      "name": "python3",
      "display_name": "Python 3"
    },
    "language_info": {
      "name": "python"
    },
    "accelerator": "GPU"
  },
  "cells": [
    {
      "cell_type": "markdown",
      "source": [
        "# Introducción a los Modelos de Lenguaje\n",
        "\n",
        "---\n",
        "\n",
        "## Configuración Inicial\n",
        "\n",
        "Antes de comenzar, necesitamos configurar nuestro entorno en Google Colab:\n",
        "\n",
        "1. Asegúrate de activar la GPU:\n",
        "   - Ve a **Entorno de ejecución > Cambiar tipo de entorno de ejecución > Acelerador de Hardware > GPU > Tipo de GPU > T4**\n",
        "\n",
        "2. Instala las bibliotecas necesarias:\n"
      ],
      "metadata": {
        "id": "Xy0iG0yOFQbG"
      }
    },
    {
      "cell_type": "code",
      "execution_count": null,
      "metadata": {
        "id": "LYYqoj15FPoc"
      },
      "outputs": [],
      "source": [
        "# @title Instalación de Dependencias { display-mode: \"form\" }\n",
        "# @markdown Ejecutá esta celda para instalar las bibliotecas necesarias\n",
        "!pip install transformers>=4.40.1 accelerate>=0.27.2"
      ]
    },
    {
      "cell_type": "markdown",
      "source": [
        "###Carga del Modelo\n",
        "Vamos a usar un modelo que funciona bien con texto en español:"
      ],
      "metadata": {
        "id": "2MlfdUqoFwgA"
      }
    },
    {
      "cell_type": "code",
      "source": [
        "from transformers import AutoModelForCausalLM, AutoTokenizer\n",
        "\n",
        "# Cargamos Phi-3, un modelo que entiende español\n",
        "model = AutoModelForCausalLM.from_pretrained(\n",
        "    \"microsoft/Phi-3-mini-4k-instruct\",\n",
        "    device_map=\"cuda\",\n",
        "    torch_dtype=\"auto\",\n",
        "    trust_remote_code=False,\n",
        ")\n",
        "tokenizer = AutoTokenizer.from_pretrained(\"microsoft/Phi-3-mini-4k-instruct\")\n",
        "\n",
        "# Creamos un pipeline para facilitar el uso\n",
        "from transformers import pipeline\n",
        "\n",
        "generador = pipeline(\n",
        "    \"text-generation\",\n",
        "    model=model,\n",
        "    tokenizer=tokenizer,\n",
        "    return_full_text=False,\n",
        "    max_new_tokens=500,\n",
        "    do_sample=False\n",
        ")"
      ],
      "metadata": {
        "id": "I1TPZwUiF37o"
      },
      "execution_count": null,
      "outputs": []
    },
    {
      "cell_type": "code",
      "source": [
        "mensaje = [\n",
        "    {\"role\": \"user\", \"content\": \"Escribí un párrafo corto sobre el dulce de leche y su importancia en la cultura argentina.\"}\n",
        "]\n",
        "\n",
        "# Generamos la respuesta\n",
        "salida = generador(mensaje)\n",
        "print(salida[0][\"generated_text\"])"
      ],
      "metadata": {
        "id": "ql0iY8FIGKIt",
        "colab": {
          "base_uri": "https://localhost:8080/"
        },
        "outputId": "e8669957-71c2-4c51-d341-db9a458fc0ff"
      },
      "execution_count": null,
      "outputs": [
        {
          "output_type": "stream",
          "name": "stderr",
          "text": [
            "The following generation flags are not valid and may be ignored: ['temperature']. Set `TRANSFORMERS_VERBOSITY=info` for more details.\n"
          ]
        },
        {
          "output_type": "stream",
          "name": "stdout",
          "text": [
            " El dulce de leche, conocido también como \"manjar\" en Argentina, es una delicia que ha trascendido fronteras y generaciones. Este dulce, con su sabor rico y sedoso, se elabora a partir de la cocción prolongada de leche condensada, lo que le confiere su característico color amarillo dorado y su textura cremosa. No solo es un postre popular en reuniones familiares y fiestas, sino que también se utiliza en una variedad de platos argentinos, desde los tradicionales empanadas hasta los famosos locos de leche. La importancia del dulce de leche en la cultura argentina es incuestionable, ya que representa un símbolo de la identidad culinaria del país y es un elemento esencial en la gastronomía argentina.\n"
          ]
        }
      ]
    },
    {
      "cell_type": "markdown",
      "source": [
        "### Explicaciones Teóricas\n",
        "\n",
        "#### ¿Qué es Phi-3?\n",
        "Phi-3 es un modelo de lenguaje desarrollado por Microsoft que:\n",
        "\n",
        "* Entiende y genera texto en múltiples idiomas\n",
        "* Puede mantener conversaciones naturales\n",
        "* Es capaz de realizar tareas como escritura creativa, responder preguntas y más\n",
        "* Tiene un buen entendimiento del contexto cultural\n",
        "\n",
        "#### ¿Cómo funciona?\n",
        "* **Entrada de texto:** Le das una instrucción o pregunta en español\n",
        "* **Procesamiento:** El modelo analiza el texto usando su conocimiento previo\n",
        "* **Generación:** Crea una respuesta coherente y contextualmente apropiada"
      ],
      "metadata": {
        "id": "DeN7VnL5HJKU"
      }
    },
    {
      "cell_type": "markdown",
      "source": [
        "###Ejercicios"
      ],
      "metadata": {
        "id": "9-nYjU3MHiKZ"
      }
    },
    {
      "cell_type": "markdown",
      "source": [
        "**Escribí una receta de mate paso a paso**\n",
        "\n"
      ],
      "metadata": {
        "id": "AkOc8nKJR818"
      }
    },
    {
      "cell_type": "code",
      "source": [
        "mensaje = [\n",
        "    {\"role\": \"user\", \"content\": \"Escribí una receta de pizza al molde paso a paso\"}\n",
        "]\n",
        "\n",
        "# Generamos la respuesta\n",
        "salida = generador(mensaje)\n",
        "print(salida[0][\"generated_text\"])"
      ],
      "metadata": {
        "colab": {
          "base_uri": "https://localhost:8080/"
        },
        "id": "YEcDahSXSUzj",
        "outputId": "1db2b9e2-5396-42d0-a041-312d1838c324"
      },
      "execution_count": null,
      "outputs": [
        {
          "output_type": "stream",
          "name": "stderr",
          "text": [
            "The following generation flags are not valid and may be ignored: ['temperature']. Set `TRANSFORMERS_VERBOSITY=info` for more details.\n"
          ]
        },
        {
          "output_type": "stream",
          "name": "stdout",
          "text": [
            " **Receta de Pizza al Molde:**\n",
            "\n",
            "\n",
            "Ingredientes:\n",
            "\n",
            "- 1 paquete de masa para pizza (aproximadamente 500 gramos)\n",
            "\n",
            "- 100 gramos de queso mozzarella rallado\n",
            "\n",
            "- 100 gramos de pepperoni\n",
            "\n",
            "- 100 gramos de champiñones cortados\n",
            "\n",
            "- 1 cebolla pequeña picada\n",
            "\n",
            "- 2 cucharadas de aceite de oliva\n",
            "\n",
            "- 1 cucharadita de orégano seco\n",
            "\n",
            "- Sal y pimienta al gusto\n",
            "\n",
            "\n",
            "Pasos:\n",
            "\n",
            "1. Precalienta el horno a 220°C (428°F).\n",
            "\n",
            "2. Extiende la masa para pizza sobre un molde para hornear previamente engrasado.\n",
            "\n",
            "3. Espolvorea la masa con un poco de aceite de oliva y espolvorea con orégano.\n",
            "\n",
            "4. Distribuye el queso mozzarella uniformemente sobre la masa.\n",
            "\n",
            "5. Coloca el pepperoni y los champiñones en capas sobre el queso.\n",
            "\n",
            "6. Añade la cebolla picada encima de los demás ingredientes.\n",
            "\n",
            "7. Salpimienta al gusto.\n",
            "\n",
            "8. Hornea en el horno precalentado durante 15-20 minutos o hasta que la masa esté dorada y el queso esté derretido.\n",
            "\n",
            "9. Sácala del horno y deja enfriar durante unos minutos antes de servir.\n"
          ]
        }
      ]
    },
    {
      "cell_type": "code",
      "source": [
        "mensaje = [\n",
        "    {\"role\": \"user\", \"content\": \"Escribí una receta de pizza napolitana paso a paso\"}\n",
        "]\n",
        "\n",
        "# Generamos la respuesta\n",
        "salida = generador(mensaje)\n",
        "print(salida[0][\"generated_text\"])"
      ],
      "metadata": {
        "colab": {
          "base_uri": "https://localhost:8080/"
        },
        "id": "LlDtlrs4SqOJ",
        "outputId": "90f17fca-86f3-4e41-e599-533ef4e29194"
      },
      "execution_count": null,
      "outputs": [
        {
          "output_type": "stream",
          "name": "stderr",
          "text": [
            "The following generation flags are not valid and may be ignored: ['temperature']. Set `TRANSFORMERS_VERBOSITY=info` for more details.\n"
          ]
        },
        {
          "output_type": "stream",
          "name": "stdout",
          "text": [
            " **Receta de Pizza Napolitana:**\n",
            "\n",
            "\n",
            "Ingredientes:\n",
            "\n",
            "- 500g de masa de pizza\n",
            "\n",
            "- 200g de mozzarella rallada\n",
            "\n",
            "- 100g de pepperoni\n",
            "\n",
            "- 100g de champiñones finamente picados\n",
            "\n",
            "- 100g de tomates frescos cortados en cubos\n",
            "\n",
            "- Aceite de oliva\n",
            "\n",
            "- Sal al gusto\n",
            "\n",
            "- Pizarrón o bandeja para horno\n",
            "\n",
            "\n",
            "Pasos:\n",
            "\n",
            "1. Precalienta el horno a 250°C (482°F).\n",
            "\n",
            "2. Extiende la masa de pizza sobre un pizarrón o una bandeja para horno, formando un círculo de aproximadamente 20 cm de diámetro.\n",
            "\n",
            "3. Añade una capa uniforme de tomates frescos cortados en cubos sobre la masa.\n",
            "\n",
            "4. Esparce una capa de champiñones finamente picados sobre los tomates.\n",
            "\n",
            "5. Rocía generosamente aceite de oliva sobre la masa.\n",
            "\n",
            "6. Espolvorea sal al gusto.\n",
            "\n",
            "7. Distribuye la mozzarella rallada y el pepperoni sobre la pizza.\n",
            "\n",
            "8. Hornea en el horno precalentado durante 10-12 minutos o hasta que la base esté dorada y la mozzarella esté fundida.\n",
            "\n",
            "9. Sácala del horno y deja que se enfríe durante unos minutos antes de cortar y servir.\n",
            "\n",
            "\n",
            "Disfruta de tu pizza napolitana casera.\n"
          ]
        }
      ]
    },
    {
      "cell_type": "markdown",
      "source": [
        "# Explicá la diferencia entre una pizza al molde y una pizza a la piedra\n",
        "\n"
      ],
      "metadata": {
        "id": "ZACgG59sS6tx"
      }
    },
    {
      "cell_type": "code",
      "source": [
        "mensaje = [\n",
        "    {\"role\": \"user\", \"content\": \"Explicá la diferencia entre una pizza al molde y una pizza a la piedra\"}\n",
        "]\n",
        "\n",
        "# Generamos la respuesta\n",
        "salida = generador(mensaje)\n",
        "print(salida[0][\"generated_text\"])"
      ],
      "metadata": {
        "colab": {
          "base_uri": "https://localhost:8080/"
        },
        "id": "W6GjxoRtTS1q",
        "outputId": "74c3af09-4149-46a9-ccb5-43cae34a2a09"
      },
      "execution_count": null,
      "outputs": [
        {
          "output_type": "stream",
          "name": "stderr",
          "text": [
            "The following generation flags are not valid and may be ignored: ['temperature']. Set `TRANSFORMERS_VERBOSITY=info` for more details.\n"
          ]
        },
        {
          "output_type": "stream",
          "name": "stdout",
          "text": [
            " La principal diferencia entre una pizza al molde y una pizza a la piedra radica en la superficie de cocción y el resultado final en cuanto a textura y sabor.\n",
            "\n",
            "\n",
            "Una pizza al molde es cocinada en un horno de pizza con una superficie de cocción plana y a menudo con un fondo de metal o cerámica. Este tipo de pizza se cocina rápidamente y es ideal para aquellos que buscan una pizza rápida y sencilla. La superficie de cocción plana permite una distribución uniforme del calor, lo que resulta en una corteza bien cocida y un centro de queso y salsa que puede ser más líquido si se desea.\n",
            "\n",
            "\n",
            "Por otro lado, una pizza a la piedra se cocina en un horno de pizza con una piedra de cocción de cerámica o de piedra caliza. La piedra absorbe y retiene el calor, lo que permite una cocción más lenta y uniforme. Esto resulta en una corteza más crujiente y un centro de queso y salsa que puede ser más firme y menos líquido. La piedra también contribuye a un sabor más rico y complejo debido a la reacción química entre la piedra y los ingredientes de la pizza.\n",
            "\n",
            "\n",
            "En resumen, la pizza al molde es más rápida y sencilla, mientras que la pizza a la piedra ofrece una textura más crujiente y un sabor más rico y complejo.\n"
          ]
        }
      ]
    },
    {
      "cell_type": "code",
      "source": [
        "mensaje = [\n",
        "    {\"role\": \"user\", \"content\": \"Escribí un diálogo usando modismos porteños\"}\n",
        "]\n",
        "\n",
        "# Generamos la respuesta\n",
        "salida = generador(mensaje)\n",
        "print(salida[0][\"generated_text\"])"
      ],
      "metadata": {
        "colab": {
          "base_uri": "https://localhost:8080/"
        },
        "id": "123QJlUpT1aL",
        "outputId": "72d2b582-bc44-4a12-d7c8-ec4b7ebe3bc5"
      },
      "execution_count": null,
      "outputs": [
        {
          "output_type": "stream",
          "name": "stderr",
          "text": [
            "The following generation flags are not valid and may be ignored: ['temperature']. Set `TRANSFORMERS_VERBOSITY=info` for more details.\n"
          ]
        },
        {
          "output_type": "stream",
          "name": "stdout",
          "text": [
            " **Personaje 1:** ¡Ahí viene el tango, mi amigo! ¿Qué te parece si nos pongamos a bailar?\n",
            "\n",
            "**Personaje 2:** ¡Claro que sí! Pero antes, ¿has visto ese nuevo restaurante en la calle Corrientes? Dicen que la comida es un milagro.\n",
            "\n",
            "**Personaje 1:** ¡Vamos a ver! Aunque no se me ocurre que la comida sea milagroso, sí que es un lugar que vale la pena visitar.\n",
            "\n",
            "**Personaje 2:** Exacto, y después de cenar, podríamos ir a ver una obra de teatro en el Teatro Colón.\n",
            "\n",
            "**Personaje 1:** ¡Eso suena genial! Y si terminamos temprano, podríamos ir a tomar un mate en la esquina.\n",
            "\n",
            "**Personaje 2:** ¡Perfecto! Aunque no me acostumbro a ello, me gusta probar cosas nuevas.\n",
            "\n",
            "**Personaje 1:** No te preocupes, te lo explicaré. El mate es una bebida tradicional que se toma con una bombilla y un bombillazo.\n",
            "\n",
            "**Personaje 2:** ¡Vaya! Me parece que estoy listo para aprender.\n",
            "\n",
            "**Personaje 1:** ¡Genial! Y no olvides que en Buenos Aires, siempre hay algo que hacer.\n"
          ]
        }
      ]
    },
    {
      "cell_type": "code",
      "source": [
        "prompt = \"Escribí una receta de mate paso a paso\"\n",
        "\n",
        "# Ejercicio de cultura\n",
        "prompt = \"Explicá la diferencia entre el asado argentino y otros tipos de BBQ\"\n",
        "\n",
        "# Ejercicio de lenguaje local\n",
        "prompt = \"Escribí un diálogo usando modismos porteños\""
      ],
      "metadata": {
        "id": "B4QGU14PHgtt"
      },
      "execution_count": null,
      "outputs": []
    },
    {
      "cell_type": "markdown",
      "source": [
        "### Tips para usar el modelo en español\n",
        "\n",
        "* Usá instrucciones claras y específicas\n",
        "* Incluí contexto cultural cuando sea relevante\n",
        "* Pedile ejemplos relacionados con Argentina para mejor comprensión\n",
        "* Experimentá con diferentes formas de hacer preguntas"
      ],
      "metadata": {
        "id": "DsfCfh0UHoMj"
      }
    }
  ]
}
