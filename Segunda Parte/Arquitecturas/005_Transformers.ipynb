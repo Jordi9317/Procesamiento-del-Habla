{
  "nbformat": 4,
  "nbformat_minor": 0,
  "metadata": {
    "colab": {
      "provenance": [],
      "gpuType": "T4"
    },
    "kernelspec": {
      "name": "python3",
      "display_name": "Python 3"
    },
    "language_info": {
      "name": "python"
    },
    "accelerator": "GPU"
  },
  "cells": [
    {
      "cell_type": "markdown",
      "source": [
        "# 🤗 Aplicaciones prácticas de Transformers con Hugging Face\n",
        "\n",
        "En esta clase vamos a usar modelos preentrenados en español para resolver tareas reales de Procesamiento del Lenguaje Natural (PLN), sin necesidad de entrenar modelos desde cero.\n",
        "\n",
        "Trabajaremos con la librería `transformers` de Hugging Face, que permite usar modelos de tipo BERT, GPT y similares en muy pocas líneas de código.\n",
        "\n",
        "---\n"
      ],
      "metadata": {
        "id": "jFLeMnvKZbE2"
      }
    },
    {
      "cell_type": "code",
      "execution_count": null,
      "metadata": {
        "id": "RZ_CCTg1ZZMX"
      },
      "outputs": [],
      "source": [
        "# Instalación de Hugging Face Transformers (solo una vez)\n",
        "!pip install -q transformers"
      ]
    },
    {
      "cell_type": "markdown",
      "source": [
        "## 1. Cargando el pipeline de Hugging Face\n",
        "\n",
        "Hugging Face proporciona \"pipelines\" que encapsulan todo el proceso: tokenización, modelo y decodificación. Solo tenés que indicar qué tarea querés hacer.\n"
      ],
      "metadata": {
        "id": "eLn8knQiZktz"
      }
    },
    {
      "cell_type": "code",
      "source": [
        "from transformers import pipeline"
      ],
      "metadata": {
        "id": "2-F5MJPqZleF"
      },
      "execution_count": null,
      "outputs": []
    },
    {
      "cell_type": "markdown",
      "source": [
        "## 2. Análisis de sentimiento en español\n",
        "\n",
        "Vamos a usar un modelo entrenado para identificar si una frase expresa un **sentimiento positivo o negativo**. Este modelo fue entrenado con tweets en español."
      ],
      "metadata": {
        "id": "ByWX-6UqZsGE"
      }
    },
    {
      "cell_type": "code",
      "source": [
        "sentiment = pipeline(\"sentiment-analysis\", model=\"finiteautomata/beto-sentiment-analysis\")"
      ],
      "metadata": {
        "id": "1Je8EvD0ip1q"
      },
      "execution_count": null,
      "outputs": []
    },
    {
      "cell_type": "code",
      "source": [
        "frases = [\n",
        "    \"Este lugar está buenísimo, la atención de diez\",\n",
        "    \"Una experiencia horrible, me quiero ir\",\n",
        "    \"Zafa, pero esperaba más\",\n",
        "    \"Recomiendo totalmente este producto\",\n",
        "    \"Nunca más compro acá\"\n",
        "]"
      ],
      "metadata": {
        "id": "k5xNiIU9Zrz6"
      },
      "execution_count": null,
      "outputs": []
    },
    {
      "cell_type": "code",
      "source": [
        "for frase in frases:\n",
        "    print(f\"{frase} → {sentiment(frase)}\")"
      ],
      "metadata": {
        "colab": {
          "base_uri": "https://localhost:8080/",
          "height": 104
        },
        "id": "7ic9Jokw76dr",
        "outputId": "6a6520c8-1b73-4194-b2bf-a269b4ec949e"
      },
      "execution_count": null,
      "outputs": [
        {
          "output_type": "stream",
          "name": "stdout",
          "text": [
            "Este lugar está buenísimo, la atención de diez → [{'label': 'POS', 'score': 0.9988070726394653}]\n",
            "Una experiencia horrible, me quiero ir → [{'label': 'NEG', 'score': 0.9991808533668518}]\n",
            "Zafa, pero esperaba más → [{'label': 'NEG', 'score': 0.9256047010421753}]\n",
            "Recomiendo totalmente este producto → [{'label': 'POS', 'score': 0.9985804557800293}]\n",
            "Nunca más compro acá → [{'label': 'NEG', 'score': 0.9992826581001282}]\n"
          ]
        }
      ]
    },
    {
      "cell_type": "markdown",
      "source": [
        "## 3. Clasificación de texto por tema (*zero-shot*)\n",
        "\n",
        "¿Querés clasificar frases por categorías sin entrenar un modelo? ¡Esto es posible gracias al aprendizaje **zero-shot**!\n",
        "\n",
        "El modelo puede asociar un texto con una o más **etiquetas** sugeridas por vos, aunque nunca fue entrenado específicamente para esas clases."
      ],
      "metadata": {
        "id": "jLvgJTdNZyoM"
      }
    },
    {
      "cell_type": "code",
      "source": [
        "classifier = pipeline(\"zero-shot-classification\", model=\"Recognai/bert-base-spanish-wwm-cased-xnli\")"
      ],
      "metadata": {
        "id": "g4DDvK_aixWI"
      },
      "execution_count": null,
      "outputs": []
    },
    {
      "cell_type": "code",
      "source": [
        "texto = \"Lionel Messi firmó contrato con el Inter Miami y debutará esta semana.\"\n",
        "\n",
        "etiquetas = [\"deportes\", \"economía\", \"política\", \"espectáculos\"]\n",
        "\n",
        "print(classifier(texto, candidate_labels=etiquetas))"
      ],
      "metadata": {
        "id": "UyR37nNRZ0xb",
        "colab": {
          "base_uri": "https://localhost:8080/"
        },
        "outputId": "7cd6b0ad-0252-420e-fdd7-a0c4aeed7577"
      },
      "execution_count": null,
      "outputs": [
        {
          "output_type": "stream",
          "name": "stdout",
          "text": [
            "{'sequence': 'Lionel Messi firmó contrato con el Inter Miami y debutará esta semana.', 'labels': ['deportes', 'espectáculos', 'política', 'economía'], 'scores': [0.516789436340332, 0.2758041322231293, 0.1318969577550888, 0.0755094587802887]}\n"
          ]
        }
      ]
    },
    {
      "cell_type": "markdown",
      "source": [
        "## 4. Resumen automático de textos\n",
        "\n",
        "Este pipeline toma un texto largo y genera un resumen breve en español. Ideal para noticias, informes o textos descriptivos.\n",
        "\n",
        "Usamos un modelo BERT2BERT adaptado al español."
      ],
      "metadata": {
        "id": "4GQztuQRZ4fi"
      }
    },
    {
      "cell_type": "code",
      "source": [
        "summarizer = pipeline(\n",
        "    \"summarization\",\n",
        "    model=\"csebuetnlp/mT5_multilingual_XLSum\",\n",
        "    tokenizer=\"csebuetnlp/mT5_multilingual_XLSum\"\n",
        ")"
      ],
      "metadata": {
        "id": "xVeW86swi4el"
      },
      "execution_count": null,
      "outputs": []
    },
    {
      "cell_type": "code",
      "source": [
        "parrafo = \"\"\"\n",
        "El Ministerio de Salud confirmó hoy que se ha logrado una reducción sostenida de casos de dengue en las últimas semanas.\n",
        "Las campañas de prevención, sumadas a la llegada del frío, habrían contribuido a esta baja. Sin embargo, se pide a la población mantener las precauciones.\n",
        "\"\"\"\n",
        "\n",
        "resumen = summarizer(parrafo, max_length=50, min_length=20, do_sample=False)\n",
        "print(resumen[0]['summary_text'])\n"
      ],
      "metadata": {
        "id": "3akyvUJ8Z6g7",
        "colab": {
          "base_uri": "https://localhost:8080/",
          "height": 34
        },
        "outputId": "56e45f7a-221f-431d-dc80-fcf982196f92"
      },
      "execution_count": null,
      "outputs": [
        {
          "output_type": "stream",
          "name": "stdout",
          "text": [
            "El número de casos de dengue en Estados Unidos alcanzó un nuevo récord.\n"
          ]
        }
      ]
    },
    {
      "cell_type": "code",
      "source": [
        "texto = \"\"\"\n",
        "La inflación en Argentina ha mostrado una leve desaceleración en el último mes, según el informe del INDEC.\n",
        "Sin embargo, los analistas advierten que la tendencia aún no se revierte, y que podrían esperarse aumentos para el próximo trimestre.\n",
        "\"\"\"\n",
        "\n",
        "resumen = summarizer(texto, max_length=60, min_length=25, do_sample=False)\n",
        "print(resumen[0]['summary_text'])\n"
      ],
      "metadata": {
        "colab": {
          "base_uri": "https://localhost:8080/",
          "height": 34
        },
        "id": "-PTb3CEpj8vd",
        "outputId": "9d1e592f-c8ff-4381-dca0-a21aeaa55947"
      },
      "execution_count": null,
      "outputs": [
        {
          "output_type": "stream",
          "name": "stdout",
          "text": [
            "El Fondo Monetario Internacional (INDEC) dijo que la inflación en Argentina se ha recuperado de una desaceleración en el último mes.\n"
          ]
        }
      ]
    },
    {
      "cell_type": "markdown",
      "source": [
        "## 5. Traducción automática (Español → Inglés)\n",
        "\n",
        "También podemos usar modelos preentrenados para **traducir textos**. En este caso, usaremos uno especializado para traducir del español al inglés.\n"
      ],
      "metadata": {
        "id": "wi8qYvCBZ7PU"
      }
    },
    {
      "cell_type": "code",
      "source": [
        "translator = pipeline(\"translation\", model=\"Helsinki-NLP/opus-mt-es-en\")"
      ],
      "metadata": {
        "id": "UwMrWPLBkKKG"
      },
      "execution_count": null,
      "outputs": []
    },
    {
      "cell_type": "code",
      "source": [
        "texto = \"La inteligencia artificial está cambiando el mundo.\"\n",
        "\n",
        "print(translator(texto)[0]['translation_text'])\n"
      ],
      "metadata": {
        "id": "6Hs_GEE2Z-3Y",
        "colab": {
          "base_uri": "https://localhost:8080/",
          "height": 34
        },
        "outputId": "f7481b37-5709-4e3c-9073-5c91551ac1b4"
      },
      "execution_count": null,
      "outputs": [
        {
          "output_type": "stream",
          "name": "stdout",
          "text": [
            "Artificial intelligence is changing the world.\n"
          ]
        }
      ]
    },
    {
      "cell_type": "markdown",
      "source": [
        "## 6. Generación de texto en español (GPT)\n",
        "\n",
        "Con un modelo tipo GPT entrenado en español, podemos **generar texto a partir de un inicio dado**. Ideal para escribir contenido creativo, continuar frases, etc.\n"
      ],
      "metadata": {
        "id": "Aym3GgYraBhw"
      }
    },
    {
      "cell_type": "code",
      "source": [
        "generator = pipeline(\"text-generation\", model=\"PlanTL-GOB-ES/gpt2-base-bne\")"
      ],
      "metadata": {
        "id": "T_8fzsSBkOwl"
      },
      "execution_count": null,
      "outputs": []
    },
    {
      "cell_type": "code",
      "source": [
        "prompt = \"Un dinosaurio está\"\n",
        "\n",
        "resultado = generator(prompt, max_length=50, num_return_sequences=1)\n",
        "print(resultado[0]['generated_text'])\n"
      ],
      "metadata": {
        "id": "QifU_lmfZ_50",
        "colab": {
          "base_uri": "https://localhost:8080/"
        },
        "outputId": "3afe4665-9226-4480-b718-14765ccef8e2"
      },
      "execution_count": null,
      "outputs": [
        {
          "output_type": "stream",
          "name": "stderr",
          "text": [
            "Truncation was not explicitly activated but `max_length` is provided a specific value, please use `truncation=True` to explicitly truncate examples to max length. Defaulting to 'longest_first' truncation strategy. If you encode pairs of sequences (GLUE-style) with the tokenizer you can select this strategy more precisely by providing a specific strategy to `truncation`.\n",
            "Both `max_new_tokens` (=256) and `max_length`(=51) seem to have been set. `max_new_tokens` will take precedence. Please refer to the documentation for more information. (https://huggingface.co/docs/transformers/main/en/main_classes/text_generation)\n"
          ]
        },
        {
          "output_type": "stream",
          "name": "stdout",
          "text": [
            "Un dinosaurio está hecho de un sistema de construcción en el que el corazón se divide en dos partes, una que puede... \n"
          ]
        }
      ]
    },
    {
      "cell_type": "markdown",
      "source": [
        "## 7. Reflexión y discusión\n",
        "\n",
        "- ¿Cuál de estos pipelines te pareció más sorprendente o útil?\n",
        "    El pipeline de clasificación de texto por tema (zero-shot) me parece muy interesante. El resumen automático también es muy útil para procesar rápidamente grandes cantidades de texto.\n",
        "- ¿Creés que estas herramientas podrían usarse en un proyecto real? ¿En cuál?\n",
        "    Estoy seguro que lo puedo aplicar en alguno de mis proyectos como podrian ser:\n",
        "\n",
        "    *1)Traducción automática*: Localización de contenido, comunicación multilingüe básica, traducción rápida de documentos.\n",
        "    \n",
        "    *2)Generación de texto*: Creación de contenido creativo, asistencia en la redacción de correos electrónicos o artículos, generación de descripciones de productos (con revisión humana).\n",
        "- ¿Notaste errores o sesgos? ¿Por qué creés que aparecen?\n",
        "    Sí, se pueden notar posibles \"errores\" o comportamientos inesperados, especialmente en el resumen automático. Por ejemplo, en el resumen del párrafo sobre el dengue, el modelo generó un resumen sobre casos de dengue en Estados Unidos, lo cual no estaba en el texto original. En el resumen sobre la inflación, mencionó al FMI en lugar del INDEC.\n",
        "\n",
        "    Estos errores o sesgos pueden aparecer por varias razones:\n",
        "\n",
        "    **Datos de entrenamiento**: Los modelos aprenden de los datos con los que fueron entrenados. Si esos datos contienen sesgos (por ejemplo, ciertos estereotipos, o información desactualizada/incorrecta), el modelo puede reflejarlos. En el caso de la generación de texto o resumen, si el modelo fue entrenado con datos de diferentes fuentes o regiones, puede generar información que no se alinea exactamente con el texto de entrada si hay información contradictoria o si el modelo prioriza cierta información de su entrenamiento general.\n",
        "\n",
        "    **Limitaciones del modelo**: Aunque son muy potentes, los modelos no \"entienden\" el texto de la misma manera que un humano. Operan basándose en patrones estadísticos y la probabilidad de secuencias de palabras. Esto puede llevar a resúmenes que no capturan el significado exacto o a traducciones que no son perfectamente idiomáticas.\n",
        "\n",
        "    **Naturaleza de la tarea**: Tareas como el resumen son intrínsecamente complejas y subjetivas. Lo que es un \"buen\" resumen puede variar. Los modelos generan un resumen basado en lo que es estadísticamente probable que sea relevante, pero no siempre aciertan.\n",
        "\n",
        "    **Configuración de los parámetros**: Parámetros como max_length o min_length en el resumen pueden influir en la calidad y coherencia del resultado.\n",
        "    Es crucial recordar que, si bien estos modelos son herramientas poderosas, a menudo requieren supervisión humana, especialmente en aplicaciones donde la precisión y la ausencia de sesgos son críticas.\n",
        "\n"
      ],
      "metadata": {
        "id": "fH5RSqBDaFul"
      }
    },
    {
      "cell_type": "markdown",
      "source": [
        "## 8. Actividad libre (opcional si hay tiempo)\n",
        "\n",
        "Explorá uno de los pipelines y diseñá tu propio experimento:\n",
        "\n",
        "- Probá frases con sarcasmo o jergas locales.\n",
        "- Resumí un artículo de Wikipedia.\n",
        "- Traducí algo complejo (tecnológico, poético, etc.).\n",
        "- Completá una frase usando estilo formal o informal.\n",
        "\n",
        "Al final compartimos los hallazgos más interesantes con el grupo 👀\n",
        "\n"
      ],
      "metadata": {
        "id": "gC5dHmTaaOO7"
      }
    },
    {
      "cell_type": "markdown",
      "source": [
        "# Análisis de sentimiento en español\n",
        "\n",
        "  Pruebo frases con sarcasmo o jergas locales estilo Pepe Mujica."
      ],
      "metadata": {
        "id": "RzgtvEA2zsi9"
      }
    },
    {
      "cell_type": "code",
      "source": [
        "frases2 = [\n",
        "    \"Pa' serte franco, esto está de novela, che\",\n",
        "    \"Mirá, esto es un desastre, ni al peor enemigo se lo recomiendo\",\n",
        "    \"No está ni tan mal ni tan bien... como pa' zafar\",\n",
        "    \"Una joyita, lo digo con el corazón en la mano\",\n",
        "    \"Esto no tiene vuelta, fue un clavo tremendo\",\n",
        "    \"Le ponen garra, se nota, eso vale más que mil estrellas\",\n",
        "    \"Una decepción bárbara, esperaba otra cosa\",\n",
        "    \"Está bueno, sencillo pero cumplidor, como tiene que ser\",\n",
        "    \"Nunca más caigo en esta, me salió el tiro por la culata\",\n",
        "    \"Si querés algo bueno de verdad, esto es por donde va la cosa\"\n",
        "]"
      ],
      "metadata": {
        "id": "BXppflMyzLnT"
      },
      "execution_count": null,
      "outputs": []
    },
    {
      "cell_type": "code",
      "source": [
        "for frase in frases2:\n",
        "    print(f\"{frase} → {sentiment(frase)}\")"
      ],
      "metadata": {
        "colab": {
          "base_uri": "https://localhost:8080/"
        },
        "id": "auGTh0zQzRm1",
        "outputId": "021aea3d-e2fd-41a4-8f3b-ddb30274a066"
      },
      "execution_count": null,
      "outputs": [
        {
          "output_type": "stream",
          "name": "stderr",
          "text": [
            "You seem to be using the pipelines sequentially on GPU. In order to maximize efficiency please use a dataset\n"
          ]
        },
        {
          "output_type": "stream",
          "name": "stdout",
          "text": [
            "Pa' serte franco, esto está de novela, che → [{'label': 'NEU', 'score': 0.8798360228538513}]\n",
            "Mirá, esto es un desastre, ni al peor enemigo se lo recomiendo → [{'label': 'NEG', 'score': 0.9989790916442871}]\n",
            "No está ni tan mal ni tan bien... como pa' zafar → [{'label': 'POS', 'score': 0.9973741769790649}]\n",
            "Una joyita, lo digo con el corazón en la mano → [{'label': 'POS', 'score': 0.9930917024612427}]\n",
            "Esto no tiene vuelta, fue un clavo tremendo → [{'label': 'NEG', 'score': 0.9992641806602478}]\n",
            "Le ponen garra, se nota, eso vale más que mil estrellas → [{'label': 'NEG', 'score': 0.9731284976005554}]\n",
            "Una decepción bárbara, esperaba otra cosa → [{'label': 'NEG', 'score': 0.998916745185852}]\n",
            "Está bueno, sencillo pero cumplidor, como tiene que ser → [{'label': 'NEU', 'score': 0.9683693647384644}]\n",
            "Nunca más caigo en esta, me salió el tiro por la culata → [{'label': 'NEG', 'score': 0.999354898929596}]\n",
            "Si querés algo bueno de verdad, esto es por donde va la cosa → [{'label': 'NEU', 'score': 0.9753333330154419}]\n"
          ]
        }
      ]
    }
  ]
}
